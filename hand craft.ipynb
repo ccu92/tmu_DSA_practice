{
 "cells": [
  {
   "cell_type": "code",
   "execution_count": 113,
   "metadata": {},
   "outputs": [],
   "source": [
    "import math"
   ]
  },
  {
   "cell_type": "code",
   "execution_count": 114,
   "metadata": {},
   "outputs": [
    {
     "data": {
      "text/plain": [
       "4.0"
      ]
     },
     "execution_count": 114,
     "metadata": {},
     "output_type": "execute_result"
    }
   ],
   "source": [
    "math.log(10000, 10)"
   ]
  },
  {
   "cell_type": "code",
   "execution_count": 115,
   "metadata": {},
   "outputs": [],
   "source": [
    "# hand craft\n",
    "f = open(\"result.txt\", \"r\")\n",
    "all_reports = f.readlines()"
   ]
  },
  {
   "cell_type": "code",
   "execution_count": 116,
   "metadata": {},
   "outputs": [],
   "source": [
    "all_reports_split = []\n",
    "for item in all_reports:\n",
    "    tmp = item.split(\" \")\n",
    "    tmp[-1] = tmp[-1][:-1]\n",
    "    all_reports_split.append(tmp)"
   ]
  },
  {
   "cell_type": "code",
   "execution_count": 117,
   "metadata": {},
   "outputs": [
    {
     "data": {
      "text/plain": [
       "15000"
      ]
     },
     "execution_count": 117,
     "metadata": {},
     "output_type": "execute_result"
    }
   ],
   "source": [
    "len(all_reports_split)"
   ]
  },
  {
   "cell_type": "code",
   "execution_count": 118,
   "metadata": {},
   "outputs": [
    {
     "ename": "KeyboardInterrupt",
     "evalue": "",
     "output_type": "error",
     "traceback": [
      "\u001b[0;31m---------------------------------------------------------------------------\u001b[0m",
      "\u001b[0;31mKeyboardInterrupt\u001b[0m                         Traceback (most recent call last)",
      "\u001b[0;32m<ipython-input-118-92b3e375f746>\u001b[0m in \u001b[0;36m<module>\u001b[0;34m\u001b[0m\n\u001b[1;32m      3\u001b[0m \u001b[0;32mfor\u001b[0m \u001b[0mitem\u001b[0m \u001b[0;32min\u001b[0m \u001b[0mall_reports_split\u001b[0m\u001b[0;34m:\u001b[0m\u001b[0;34m\u001b[0m\u001b[0;34m\u001b[0m\u001b[0m\n\u001b[1;32m      4\u001b[0m     \u001b[0;32mfor\u001b[0m \u001b[0mword\u001b[0m \u001b[0;32min\u001b[0m \u001b[0mitem\u001b[0m\u001b[0;34m:\u001b[0m\u001b[0;34m\u001b[0m\u001b[0;34m\u001b[0m\u001b[0m\n\u001b[0;32m----> 5\u001b[0;31m         \u001b[0;32mif\u001b[0m \u001b[0mword\u001b[0m \u001b[0;32mnot\u001b[0m \u001b[0;32min\u001b[0m \u001b[0mall_words_list\u001b[0m\u001b[0;34m:\u001b[0m\u001b[0;34m\u001b[0m\u001b[0;34m\u001b[0m\u001b[0m\n\u001b[0m\u001b[1;32m      6\u001b[0m             \u001b[0mall_words_list\u001b[0m\u001b[0;34m.\u001b[0m\u001b[0mappend\u001b[0m\u001b[0;34m(\u001b[0m\u001b[0mword\u001b[0m\u001b[0;34m)\u001b[0m\u001b[0;34m\u001b[0m\u001b[0;34m\u001b[0m\u001b[0m\n\u001b[1;32m      7\u001b[0m \u001b[0mlen\u001b[0m\u001b[0;34m(\u001b[0m\u001b[0mall_words_list\u001b[0m\u001b[0;34m)\u001b[0m\u001b[0;34m\u001b[0m\u001b[0;34m\u001b[0m\u001b[0m\n",
      "\u001b[0;31mKeyboardInterrupt\u001b[0m: "
     ]
    }
   ],
   "source": [
    "# 裝有所有詞的 長串列\n",
    "all_words_list = []\n",
    "for item in all_reports_split:\n",
    "    for word in item:\n",
    "        if word not in all_words_list:\n",
    "            all_words_list.append(word)        \n",
    "len(all_words_list)"
   ]
  },
  {
   "cell_type": "code",
   "execution_count": null,
   "metadata": {},
   "outputs": [],
   "source": [
    "#idf dict\n",
    "idf_dict = dict()\n",
    "for word in all_words_list:\n",
    "    for report in all_reports_split:\n",
    "        if word in report:\n",
    "            if word in idf_dict:\n",
    "                idf_dict[word] = idf_dict[word] + math.log(len(all_reports_split) / 1, 10)\n",
    "                continue\n",
    "            else:\n",
    "                # math.log(10000, 10)\n",
    "                idf_dict[word] = math.log(len(all_reports_split) / 1, 10)\n",
    "        else:\n",
    "            continue"
   ]
  },
  {
   "cell_type": "code",
   "execution_count": null,
   "metadata": {},
   "outputs": [],
   "source": [
    "#idf_dict"
   ]
  },
  {
   "cell_type": "code",
   "execution_count": null,
   "metadata": {},
   "outputs": [],
   "source": [
    "tf = []\n",
    "for report in all_reports_split:\n",
    "    report_id = all_reports_split.index(report)\n",
    "    # filter level\n",
    "\n",
    "    level = []\n",
    "    for word in report:\n",
    "        \n",
    "        if word not in level:\n",
    "            level.append(word)\n",
    "    # print(level)\n",
    "    for i in level:\n",
    "        tmp = []\n",
    "        fre = report.count(i) / len(level)\n",
    "        word_id = all_words_list.index(i)\n",
    "        tmp.append(report_id)\n",
    "        tmp.append(word_id)\n",
    "        tmp.append(i)\n",
    "        tmp.append(fre)\n",
    "        tf.append(tmp)"
   ]
  },
  {
   "cell_type": "code",
   "execution_count": null,
   "metadata": {},
   "outputs": [],
   "source": [
    "#tf"
   ]
  },
  {
   "cell_type": "code",
   "execution_count": null,
   "metadata": {},
   "outputs": [],
   "source": [
    "tf_dict = dict()\n",
    "for word in all_words_list:\n",
    "    for i, j, k, m in tf:\n",
    "        if k == word:\n",
    "            if word in tf_dict:\n",
    "                tf_dict[word] = tf_dict[word] + m\n",
    "                continue\n",
    "            else:\n",
    "                tf_dict[word] = m\n",
    "        else:\n",
    "            continue"
   ]
  },
  {
   "cell_type": "code",
   "execution_count": null,
   "metadata": {},
   "outputs": [],
   "source": [
    "#tf_dict"
   ]
  },
  {
   "cell_type": "code",
   "execution_count": null,
   "metadata": {},
   "outputs": [],
   "source": [
    "#idf_dict"
   ]
  },
  {
   "cell_type": "code",
   "execution_count": null,
   "metadata": {},
   "outputs": [],
   "source": [
    "tf_list = tf_dict.items()\n",
    "idf_list = idf_dict.items()\n",
    "final_list = []\n",
    "for i,j in zip(tf_list, idf_list):\n",
    "    tmp = []\n",
    "    term = i[0]\n",
    "    gtfidf = float(i[1]) * float(j[1])\n",
    "    tmp.append(term)\n",
    "    tmp.append(gtfidf)\n",
    "    final_list.append(tmp)\n",
    "    #print(i[0],float(i[1]) * float(j[1]))"
   ]
  },
  {
   "cell_type": "code",
   "execution_count": null,
   "metadata": {},
   "outputs": [],
   "source": [
    "#final_list"
   ]
  },
  {
   "cell_type": "code",
   "execution_count": null,
   "metadata": {},
   "outputs": [],
   "source": [
    "my_tmp = sorted(final_list, key = lambda x:x[1])\n",
    "tmp_t = []\n",
    "tmp_v = []\n",
    "for i, j in my_tmp:\n",
    "    tmp_t.append(i)\n",
    "    tmp_v.append(j)\n",
    "tmp_t.reverse()\n",
    "tmp_v.reverse()\n",
    "\n",
    "tmp_g = []\n",
    "tmp_g.append(\"Term:              G_TF-IDF\")\n",
    "for i, j in zip(tmp_t, tmp_v):\n",
    "    tmp_g.append(str(i) + \":              \" + str(round(j, 2)))"
   ]
  },
  {
   "cell_type": "code",
   "execution_count": null,
   "metadata": {},
   "outputs": [],
   "source": [
    "# 最後的結果 tmp_g"
   ]
  },
  {
   "cell_type": "code",
   "execution_count": null,
   "metadata": {},
   "outputs": [],
   "source": []
  },
  {
   "cell_type": "code",
   "execution_count": null,
   "metadata": {},
   "outputs": [],
   "source": []
  }
 ],
 "metadata": {
  "kernelspec": {
   "display_name": "Python 3",
   "language": "python",
   "name": "python3"
  },
  "language_info": {
   "codemirror_mode": {
    "name": "ipython",
    "version": 3
   },
   "file_extension": ".py",
   "mimetype": "text/x-python",
   "name": "python",
   "nbconvert_exporter": "python",
   "pygments_lexer": "ipython3",
   "version": "3.8.5"
  }
 },
 "nbformat": 4,
 "nbformat_minor": 4
}
